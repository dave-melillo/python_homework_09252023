{
 "cells": [
  {
   "cell_type": "code",
   "execution_count": 15,
   "id": "7b957850-c917-4f7c-a565-848e5030600e",
   "metadata": {},
   "outputs": [],
   "source": [
    "#read in budget_data.csv\n",
    "\n",
    "# Your task is to create a Python script that analyzes the records to calculate each of the following:\n",
    "\n",
    "\n",
    "# The total number of months included in the dataset.\n",
    "\n",
    "\n",
    "# The net total amount of Profit/Losses over the entire period.\n",
    "\n",
    "\n",
    "# The average of the changes in Profit/Losses over the entire period.\n",
    "\n",
    "\n",
    "# The greatest increase in profits (date and amount) over the entire period.\n",
    "\n",
    "\n",
    "# The greatest decrease in losses (date and amount) over the entire period.\n",
    "\n",
    "# Output to .txt file"
   ]
  },
  {
   "cell_type": "code",
   "execution_count": 16,
   "id": "7b86b579-52c1-400e-86f7-1a5736f39b50",
   "metadata": {},
   "outputs": [],
   "source": [
    "import csv \n",
    "from pathlib import Path"
   ]
  },
  {
   "cell_type": "code",
   "execution_count": 25,
   "id": "582297fd-f306-4d44-aa84-42998dc10555",
   "metadata": {},
   "outputs": [],
   "source": [
    "file_to_load = Path(\"pybank/budget_data.csv\")\n",
    "file_to_output = Path(\"pybank/budget_analysis.txt\")"
   ]
  },
  {
   "cell_type": "code",
   "execution_count": 26,
   "id": "f56ede47-750b-45b6-9502-24a8f293b253",
   "metadata": {},
   "outputs": [],
   "source": [
    "#create variables\n",
    "total_months = 0\n",
    "month_of_change = []\n",
    "net_change_list = [] \n",
    "greatest_increase = [\"\",0]\n",
    "greatest_decrease = [\"\", 9999999999999999999]\n",
    "total_net = 0 "
   ]
  },
  {
   "cell_type": "code",
   "execution_count": 27,
   "id": "a115504d-1260-4c0e-92d2-a5a7a60c4928",
   "metadata": {},
   "outputs": [],
   "source": [
    "# Read the csv and convert it into a list of dictionaries\n",
    "with open(file_to_load) as financial_data:\n",
    "    reader = csv.reader(financial_data)\n",
    "\n",
    "    # Read the header row\n",
    "    header = next(reader)\n",
    "\n",
    "    # Extract first row to avoid appending to net_change_list\n",
    "    first_row = next(reader)\n",
    "    total_months = total_months + 1\n",
    "    total_net = total_net + int(first_row[1])\n",
    "    prev_net = int(first_row[1])\n",
    "\n",
    "    for row in reader:\n",
    "\n",
    "        # Track the total\n",
    "        total_months = total_months + 1\n",
    "        total_net = total_net + int(row[1])\n",
    "\n",
    "        # Track the net change\n",
    "        net_change = int(row[1]) - prev_net\n",
    "        prev_net = int(row[1])\n",
    "        net_change_list = net_change_list + [net_change]\n",
    "        month_of_change = month_of_change + [row[0]]\n",
    "\n",
    "        # Calculate the greatest increase\n",
    "        if net_change > greatest_increase[1]:\n",
    "            greatest_increase[0] = row[0]\n",
    "            greatest_increase[1] = net_change\n",
    "\n",
    "        # Calculate the greatest decrease\n",
    "        if net_change < greatest_decrease[1]:\n",
    "            greatest_decrease[0] = row[0]\n",
    "            greatest_decrease[1] = net_change"
   ]
  },
  {
   "cell_type": "code",
   "execution_count": 28,
   "id": "cf2be9c5-7574-4fdd-a47a-33d675119d55",
   "metadata": {},
   "outputs": [],
   "source": [
    "# Calculate the Average Net Change\n",
    "net_monthly_avg = round(sum(net_change_list) / len(net_change_list),2)"
   ]
  },
  {
   "cell_type": "code",
   "execution_count": 29,
   "id": "8acfce8a-8021-4acc-89ee-88c94df628df",
   "metadata": {},
   "outputs": [],
   "source": [
    "# Export the results to text file\n",
    "with open(file_to_output, \"w\") as txt_file:\n",
    "    txt_file.write(f\"Financial Analysis\\n\")\n",
    "    txt_file.write(f\"----------------------------\\n\")\n",
    "    txt_file.write(f\"Total Months: {total_months}\\n\")\n",
    "    txt_file.write(f\"Total: ${total_net}\\n\")\n",
    "    txt_file.write(f\"Average  Change: ${net_monthly_avg}\\n\")\n",
    "    txt_file.write(f\"Greatest Increase in Profits: {greatest_increase[0]} (${greatest_increase[1]})\\n\")\n",
    "    txt_file.write(f\"Greatest Decrease in Profits: {greatest_decrease[0]} (${greatest_decrease[1]})\\n\")"
   ]
  },
  {
   "cell_type": "code",
   "execution_count": null,
   "id": "ed577047-3681-410b-9041-0b20d9c630d6",
   "metadata": {},
   "outputs": [],
   "source": []
  }
 ],
 "metadata": {
  "kernelspec": {
   "display_name": "Python 3 (ipykernel)",
   "language": "python",
   "name": "python3"
  },
  "language_info": {
   "codemirror_mode": {
    "name": "ipython",
    "version": 3
   },
   "file_extension": ".py",
   "mimetype": "text/x-python",
   "name": "python",
   "nbconvert_exporter": "python",
   "pygments_lexer": "ipython3",
   "version": "3.9.10"
  }
 },
 "nbformat": 4,
 "nbformat_minor": 5
}
